{
  "cells": [
    {
      "cell_type": "code",
      "execution_count": null,
      "id": "904711a5",
      "metadata": {
        "id": "904711a5",
        "outputId": "c6ba656d-d5f1-4de5-f901-d7e6f62e22bc"
      },
      "outputs": [
        {
          "name": "stdout",
          "output_type": "stream",
          "text": [
            "The autoreload extension is already loaded. To reload it, use:\n",
            "  %reload_ext autoreload\n"
          ]
        }
      ],
      "source": [
        "import pandas as pd\n",
        "import numpy as np\n",
        "\n",
        "import utils2 as u\n",
        "\n",
        "from sklearn.model_selection import train_test_split\n",
        "from sklearn.metrics import mean_absolute_error as mae\n",
        "\n",
        "from functools import partial\n",
        "from hyperopt import hp, fmin, tpe, STATUS_OK, Trials\n",
        "\n",
        "%load_ext autoreload\n",
        "%autoreload 2"
      ]
    },
    {
      "cell_type": "code",
      "execution_count": null,
      "id": "a7773825",
      "metadata": {
        "id": "a7773825"
      },
      "outputs": [],
      "source": [
        "df_all = u.prepare_data()\n",
        "df_all = u.feature_engeenering(df_all)"
      ]
    },
    {
      "cell_type": "code",
      "execution_count": null,
      "id": "84085d60",
      "metadata": {
        "id": "84085d60"
      },
      "outputs": [],
      "source": [
        "df_train, df_test = u.split_data(df_all)"
      ]
    },
    {
      "cell_type": "markdown",
      "id": "621fb472",
      "metadata": {
        "id": "621fb472"
      },
      "source": [
        "##### CatBoost (selected feats)"
      ]
    },
    {
      "cell_type": "code",
      "execution_count": null,
      "id": "fd1d6f2e",
      "metadata": {
        "id": "fd1d6f2e",
        "outputId": "c9b5fad9-92ac-47f7-e9d3-959ceae88e21"
      },
      "outputs": [
        {
          "name": "stdout",
          "output_type": "stream",
          "text": [
            "100%|███████████████████| 50/50 [8:27:21<00:00, 608.84s/trial, best loss: 0.43396084433346727]\n",
            "The best params:  {'n_estimators': 1400.0, 'x_l2_leaf_reg': 2.009522652209374, 'x_learning_rate': 0.0583736347504234, 'x_max_depth': 11.0}\n"
          ]
        }
      ],
      "source": [
        "def ctb_objective_feats(space):\n",
        "    \n",
        "    X = u.get_X(df_train[u.FEATS])\n",
        "    y = u.get_y(df_train)\n",
        "    X_train, X_test, y_train, y_test = train_test_split(X, y, test_size=0.3)\n",
        "    \n",
        "    \n",
        "    ctb_params = {\n",
        "        'n_estimators': int(space['n_estimators']),\n",
        "        'max_depth': int(space['max_depth']),\n",
        "        'learning_rate': space['learning_rate'],\n",
        "        'l2_leaf_reg': space['l2_leaf_reg'],\n",
        "    }\n",
        "    \n",
        "    model = u.ctb.CatBoostRegressor(**ctb_params, verbose=0)\n",
        "    model.fit(X_train, y_train)\n",
        "    y_pred = model.predict(X_test)\n",
        "    \n",
        "    score = mae(y_test, y_pred)\n",
        "    \n",
        "    return{'loss':score, 'status': STATUS_OK }\n",
        "\n",
        "space ={\n",
        "    'n_estimators': hp.quniform ('n_estimators', 100, 2000, 100),\n",
        "    'max_depth': hp.quniform ('x_max_depth', 3, 15, 1),\n",
        "    'learning_rate': hp.uniform ('x_learning_rate', 0.005, 0.4),\n",
        "    'l2_leaf_reg': hp.uniform ('x_l2_leaf_reg', 0.2, 3.),\n",
        "}\n",
        "\n",
        "\n",
        "trials = Trials()\n",
        "best_params = fmin(fn=ctb_objective_feats,\n",
        "            space=space,\n",
        "            algo=partial(tpe.suggest, n_startup_jobs=1),\n",
        "            max_evals=50,\n",
        "            trials=trials)\n",
        "\n",
        "print(\"The best params: \", best_params)\n",
        "pd.DataFrame(trials.trials).to_csv('trials_ctb_feats.csv')"
      ]
    }
  ],
  "metadata": {
    "kernelspec": {
      "display_name": "Python 3 (ipykernel)",
      "language": "python",
      "name": "python3"
    },
    "language_info": {
      "codemirror_mode": {
        "name": "ipython",
        "version": 3
      },
      "file_extension": ".py",
      "mimetype": "text/x-python",
      "name": "python",
      "nbconvert_exporter": "python",
      "pygments_lexer": "ipython3",
      "version": "3.9.7"
    },
    "colab": {
      "name": "4. CO prediction - Dostrajanie parametrów Hyperopt.ipynb",
      "provenance": []
    }
  },
  "nbformat": 4,
  "nbformat_minor": 5
}